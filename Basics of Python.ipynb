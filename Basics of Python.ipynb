{
 "cells": [
  {
   "cell_type": "code",
   "execution_count": null,
   "id": "2047bba6-9973-435f-9d7f-62fbc9e7d950",
   "metadata": {},
   "outputs": [],
   "source": [
    "#-------------------BASICS OF PYTHON------------------!\n",
    "#Coding"
   ]
  },
  {
   "cell_type": "code",
   "execution_count": 9,
   "id": "624bef22-66fc-4f4a-aba0-31a78215a765",
   "metadata": {},
   "outputs": [
    {
     "name": "stdin",
     "output_type": "stream",
     "text": [
      "Enter a number:  5\n"
     ]
    },
    {
     "name": "stdout",
     "output_type": "stream",
     "text": [
      "5 is a prime number\n"
     ]
    }
   ],
   "source": [
    "#Prime Number\n",
    "\n",
    "num = int(input(\"Enter a number: \"))\n",
    "flag = False\n",
    "\n",
    "if num == 0 or num == 1:\n",
    "    print(num, \"is not a prime number\")\n",
    "elif num > 1:\n",
    "    for i in range(2, num):\n",
    "        if (num % i) == 0:\n",
    "            flag = True\n",
    "            break\n",
    "    if flag:\n",
    "        print(num, \"is not a prime number\")\n",
    "    else:\n",
    "        print(num, \"is a prime number\")"
   ]
  },
  {
   "cell_type": "code",
   "execution_count": 27,
   "id": "dc1df7f0-0f53-418d-ae12-7295e339320e",
   "metadata": {},
   "outputs": [
    {
     "name": "stdout",
     "output_type": "stream",
     "text": [
      "What is the product of 53 and 5?\n"
     ]
    },
    {
     "name": "stdin",
     "output_type": "stream",
     "text": [
      "Your answer:  500\n"
     ]
    },
    {
     "name": "stdout",
     "output_type": "stream",
     "text": [
      "Incorrect. The correct answer is 265.\n"
     ]
    }
   ],
   "source": [
    "#Product of Random Numbers\n",
    "#Here, in this program I am taking random numbers as a sample in the range between 0 to 100\n",
    "\n",
    "import random\n",
    "n1 = random.randint(0, 100)\n",
    "n2 = random.randint(0, 100)\n",
    "\n",
    "product=n1*n2\n",
    "print(f\"What is the product of {n1} and {n2}?\")\n",
    "try:\n",
    "    user_answer = int(input(\"Your answer: \"))\n",
    "except ValueError:\n",
    "    print(\"Please enter a valid number!\")\n",
    "if user_answer == product:\n",
    "    print(\"Correct!\")\n",
    "else:\n",
    "    print(f\"Incorrect. The correct answer is {product}.\")\n",
    "\n"
   ]
  },
  {
   "cell_type": "code",
   "execution_count": 29,
   "id": "29f473a2-39d8-473a-872a-ef10e6ad4a48",
   "metadata": {},
   "outputs": [
    {
     "name": "stdout",
     "output_type": "stream",
     "text": [
      "The square of 101 is 10201\n",
      "The square of 103 is 10609\n",
      "The square of 105 is 11025\n",
      "The square of 107 is 11449\n",
      "The square of 109 is 11881\n",
      "The square of 111 is 12321\n",
      "The square of 113 is 12769\n",
      "The square of 115 is 13225\n",
      "The square of 117 is 13689\n",
      "The square of 119 is 14161\n",
      "The square of 121 is 14641\n",
      "The square of 123 is 15129\n",
      "The square of 125 is 15625\n",
      "The square of 127 is 16129\n",
      "The square of 129 is 16641\n",
      "The square of 131 is 17161\n",
      "The square of 133 is 17689\n",
      "The square of 135 is 18225\n",
      "The square of 137 is 18769\n",
      "The square of 139 is 19321\n",
      "The square of 141 is 19881\n",
      "The square of 143 is 20449\n",
      "The square of 145 is 21025\n",
      "The square of 147 is 21609\n",
      "The square of 149 is 22201\n",
      "The square of 151 is 22801\n",
      "The square of 153 is 23409\n",
      "The square of 155 is 24025\n",
      "The square of 157 is 24649\n",
      "The square of 159 is 25281\n",
      "The square of 161 is 25921\n",
      "The square of 163 is 26569\n",
      "The square of 165 is 27225\n",
      "The square of 167 is 27889\n",
      "The square of 169 is 28561\n",
      "The square of 171 is 29241\n",
      "The square of 173 is 29929\n",
      "The square of 175 is 30625\n",
      "The square of 177 is 31329\n",
      "The square of 179 is 32041\n",
      "The square of 181 is 32761\n",
      "The square of 183 is 33489\n",
      "The square of 185 is 34225\n",
      "The square of 187 is 34969\n",
      "The square of 189 is 35721\n",
      "The square of 191 is 36481\n",
      "The square of 193 is 37249\n",
      "The square of 195 is 38025\n",
      "The square of 197 is 38809\n",
      "The square of 199 is 39601\n"
     ]
    }
   ],
   "source": [
    "#Squares of Even/Odd Numbers\n",
    "#Here, I am choosing odd numbers as my choice.\n",
    "for num in range(100, 201):\n",
    "    if num % 2 != 0: \n",
    "        square = num * num\n",
    "        print(f\"The square of {num} is {square}\")"
   ]
  },
  {
   "cell_type": "code",
   "execution_count": 35,
   "id": "9d3b4364-8945-48c9-b561-9dc94e2cf11f",
   "metadata": {},
   "outputs": [
    {
     "name": "stdout",
     "output_type": "stream",
     "text": [
      "'this': 2\n",
      "'is': 1\n",
      "'a': 1\n",
      "'sample': 1\n",
      "'text': 2\n",
      "'will': 1\n",
      "'be': 1\n",
      "'used': 1\n",
      "'to': 1\n",
      "'demonstrate': 1\n",
      "'the': 1\n",
      "'word': 1\n",
      "'counter': 1\n"
     ]
    }
   ],
   "source": [
    "#Word counter\n",
    "def count_words(text):\n",
    "    word_counts = {}\n",
    "    words = input_text.split()\n",
    "\n",
    "    for word in words:\n",
    "        word = word.strip('.').lower() \n",
    "        word_counts[word] = word_counts.get(word, 0) + 1\n",
    "    return word_counts\n",
    "\n",
    "# From Given Example \n",
    "input_text = \"This is a sample text. This text will be used to demonstrate the word counter.\"\n",
    "word_counts = count_words(input_text)\n",
    "\n",
    "for word, count in word_counts.items():\n",
    "  print(f\"'{word}': {count}\")"
   ]
  },
  {
   "cell_type": "code",
   "execution_count": 53,
   "id": "0585ae35-1e50-43c9-a959-b7cf8c66d7a1",
   "metadata": {},
   "outputs": [
    {
     "name": "stdin",
     "output_type": "stream",
     "text": [
      "Enter a string:  racecar\n"
     ]
    },
    {
     "name": "stdout",
     "output_type": "stream",
     "text": [
      "True\n"
     ]
    }
   ],
   "source": [
    "#Check for Palindrome\n",
    "#Given we are using String so i am using String slicing.(Reverse)\n",
    "\n",
    "def isPalindrome(string):\n",
    "    if string == string[::-1]:\n",
    "        return \"True\"\n",
    "    else:\n",
    "        return \"False\"\n",
    "\n",
    "string = input(\"Enter a string: \") #We are taking given example as input\n",
    "print(isPalindrome(string))\n"
   ]
  },
  {
   "cell_type": "code",
   "execution_count": null,
   "id": "18dd6499-325b-4e66-845b-55b16c045c11",
   "metadata": {},
   "outputs": [],
   "source": [
    "#-----------------FINISH-----------------!"
   ]
  }
 ],
 "metadata": {
  "kernelspec": {
   "display_name": "Python 3 (ipykernel)",
   "language": "python",
   "name": "python3"
  },
  "language_info": {
   "codemirror_mode": {
    "name": "ipython",
    "version": 3
   },
   "file_extension": ".py",
   "mimetype": "text/x-python",
   "name": "python",
   "nbconvert_exporter": "python",
   "pygments_lexer": "ipython3",
   "version": "3.12.4"
  }
 },
 "nbformat": 4,
 "nbformat_minor": 5
}
