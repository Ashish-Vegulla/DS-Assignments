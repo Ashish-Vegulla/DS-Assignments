{
 "cells": [
  {
   "cell_type": "code",
   "execution_count": null,
   "id": "be52db0c-390b-423a-800a-4e7d39623c3c",
   "metadata": {},
   "outputs": [],
   "source": [
    "#---------------------BASIC STATS-2------------------------------------------"
   ]
  },
  {
   "cell_type": "code",
   "execution_count": null,
   "id": "dd0bd2ae-4c69-4aa0-b2c6-b3c37a7e8ff0",
   "metadata": {},
   "outputs": [],
   "source": [
    "#Since the sample size is small (n<30) and the population standard deviation is unknown.\n",
    "#The t-distribution is utilized rather than the normal distribution.\n",
    "#Additional variability in the standard error estimate is taken into consideration by the t-distribution."
   ]
  },
  {
   "cell_type": "code",
   "execution_count": 3,
   "id": "228ba9cf-f732-423e-9f98-73f5ebf5263c",
   "metadata": {},
   "outputs": [
    {
     "name": "stdout",
     "output_type": "stream",
     "text": [
      "Sample Mean: 1.239\n",
      "Sample Standard Deviation: 0.193\n",
      "Critical t-value (99% CI): 2.977\n",
      "Margin of Error: 0.148\n",
      "99% Confidence Interval: (1.090, 1.387)\n"
     ]
    }
   ],
   "source": [
    "#Task-a Build 99% Confidence Interval Using Sample Standard Deviation\n",
    "\n",
    "import numpy as np\n",
    "from scipy.stats import t\n",
    "\n",
    "data = [1.13, 1.55, 1.43, 0.92, 1.25, 1.36, 1.32, 0.85, 1.07, 1.48, 1.20, 1.33, 1.18, 1.22, 1.29]\n",
    "\n",
    "# Step 1: Calculate sample size, mean, and standard deviation\n",
    "n = len(data)\n",
    "mean = np.mean(data)\n",
    "std_dev = np.std(data, ddof=1)  # Sample standard deviation\n",
    "\n",
    "# Step 2: Determine degrees of freedom and critical t-value\n",
    "df = n - 1  # Degrees of freedom\n",
    "confidence_level = 0.99\n",
    "t_critical = t.ppf(1 - (1 - confidence_level) / 2, df)  # Two-tailed test\n",
    "\n",
    "# Step 3: Calculating the margin of error\n",
    "margin_of_error = t_critical * (std_dev / np.sqrt(n))\n",
    "\n",
    "# Step 4: Calculating the confidence interval\n",
    "ci_lower = mean - margin_of_error\n",
    "ci_upper = mean + margin_of_error\n",
    "\n",
    "#Results\n",
    "print(f\"Sample Mean: {mean:.3f}\")\n",
    "print(f\"Sample Standard Deviation: {std_dev:.3f}\")\n",
    "print(f\"Critical t-value (99% CI): {t_critical:.3f}\")\n",
    "print(f\"Margin of Error: {margin_of_error:.3f}\")\n",
    "print(f\"99% Confidence Interval: ({ci_lower:.3f}, {ci_upper:.3f})\")\n"
   ]
  },
  {
   "cell_type": "code",
   "execution_count": null,
   "id": "7558f4a1-e106-4dd4-b53d-80c59f61a08e",
   "metadata": {},
   "outputs": [],
   "source": [
    "#Task-b  Build 99% Confidence Interval Using Known Population Standard Deviation"
   ]
  },
  {
   "cell_type": "code",
   "execution_count": 5,
   "id": "d6c90fe4-4f2b-4e09-bfa9-80ee197db81e",
   "metadata": {},
   "outputs": [
    {
     "name": "stdout",
     "output_type": "stream",
     "text": [
      "Sample Mean: 1.239\n",
      "Known Population Standard Deviation: 0.200\n",
      "Critical z-value (99% CI): 2.576\n",
      "Margin of Error: 0.133\n",
      "99% Confidence Interval: (1.106, 1.372)\n"
     ]
    }
   ],
   "source": [
    "pop_std_dev = 0.2\n",
    "z_critical = 2.576  # From z-table for 99% CI\n",
    "\n",
    "# Calculating the margin of error\n",
    "margin_of_error = z_critical * (pop_std_dev / np.sqrt(n))\n",
    "\n",
    "#Calculating the confidence interval\n",
    "ci_lower = mean - margin_of_error\n",
    "ci_upper = mean + margin_of_error\n",
    "\n",
    "#Results\n",
    "print(f\"Sample Mean: {mean:.3f}\")\n",
    "print(f\"Known Population Standard Deviation: {pop_std_dev:.3f}\")\n",
    "print(f\"Critical z-value (99% CI): {z_critical:.3f}\")\n",
    "print(f\"Margin of Error: {margin_of_error:.3f}\")\n",
    "print(f\"99% Confidence Interval: ({ci_lower:.3f}, {ci_upper:.3f})\")"
   ]
  },
  {
   "cell_type": "code",
   "execution_count": null,
   "id": "06841ebf-ea4a-4870-b7bd-b3237ecf2e0b",
   "metadata": {},
   "outputs": [],
   "source": [
    "#------------------FINISH--------------------!"
   ]
  }
 ],
 "metadata": {
  "kernelspec": {
   "display_name": "Python 3 (ipykernel)",
   "language": "python",
   "name": "python3"
  },
  "language_info": {
   "codemirror_mode": {
    "name": "ipython",
    "version": 3
   },
   "file_extension": ".py",
   "mimetype": "text/x-python",
   "name": "python",
   "nbconvert_exporter": "python",
   "pygments_lexer": "ipython3",
   "version": "3.12.4"
  }
 },
 "nbformat": 4,
 "nbformat_minor": 5
}
