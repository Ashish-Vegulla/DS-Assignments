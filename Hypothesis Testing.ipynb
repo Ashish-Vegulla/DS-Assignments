{
 "cells": [
  {
   "cell_type": "code",
   "execution_count": null,
   "id": "1b9132af-3be7-465c-baeb-4bfa41c21866",
   "metadata": {},
   "outputs": [],
   "source": [
    "#CHI-Square Test"
   ]
  },
  {
   "cell_type": "code",
   "execution_count": 5,
   "id": "72fb2d03-e85a-472c-b706-d39fed9c666c",
   "metadata": {},
   "outputs": [],
   "source": [
    "#Step 1 Hypothesis:\n",
    "\n",
    "#Null Hypothesis(H0): The observed frequencies are equal to the expected frequencies. There is no significant difference between observed and expected values.\n",
    "#H0=The data fits the expected distribution.\n",
    "\n",
    "#Alternative Hypothesis (H-alpha): The observed frequencies are significantly different from the expected frequencies.\n",
    "#H-alpha=The data does not fits the expected distribution."
   ]
  },
  {
   "cell_type": "code",
   "execution_count": 11,
   "id": "dff6d586-04aa-4a58-89ff-7ca4a532ea74",
   "metadata": {},
   "outputs": [
    {
     "name": "stdout",
     "output_type": "stream",
     "text": [
      "Chi-Square Statistic: 5.638\n",
      "Critical Value: 9.488\n",
      "p-value: 0.228\n",
      "Decision: Fail to reject the null hypothesis\n"
     ]
    }
   ],
   "source": [
    "import numpy as np\n",
    "from scipy.stats import chi2_contingency\n",
    "\n",
    "observed = np.array([[50, 70], [80, 100], [60, 90], [30, 50], [20, 50]])\n",
    "\n",
    "# Step 2: Compute the Chi-Square Statistic using chi2_contingency\n",
    "chi2_stat, p_val, dof, expected = chi2_contingency(observed)\n",
    "\n",
    "# Step 3: Determine the critical value\n",
    "alpha = 0.05\n",
    "critical_value = chi2.ppf(1 - alpha, dof)\n",
    "\n",
    "# Step 4: Make a Decision\n",
    "if chi2_stat > critical_value:\n",
    "    decision = \"Reject the null hypothesis\"\n",
    "else:\n",
    "    decision = \"Fail to reject the null hypothesis\"\n",
    "\n",
    "# Output the results\n",
    "print(f\"Chi-Square Statistic: {chi2_stat:.3f}\")\n",
    "print(f\"Critical Value: {critical_value:.3f}\")\n",
    "print(f\"p-value: {p_val:.3f}\")\n",
    "print(f\"Decision: {decision}\")"
   ]
  },
  {
   "cell_type": "code",
   "execution_count": null,
   "id": "abde8182-15e9-46f1-890d-d3f33d100c54",
   "metadata": {},
   "outputs": [],
   "source": [
    "#Step-5 Conclusion:\n",
    "\n",
    "#In the above scenario, we are examining if the type of smart home gadget purchased (smart lights vs. smart thermostats) and customer satisfaction level are significantly correlated.\n",
    "#Since the Chi-Square statistic in this case is below the crucial value, the null hypothesis cannot be rejected, indicating that there is no meaningful correlation."
   ]
  },
  {
   "cell_type": "code",
   "execution_count": null,
   "id": "4246fde3-9a61-46b5-a20a-323e9830c073",
   "metadata": {},
   "outputs": [],
   "source": [
    "#Hyptothesis Testing"
   ]
  },
  {
   "cell_type": "code",
   "execution_count": null,
   "id": "95484505-742f-4ec0-8517-bf3692f05a41",
   "metadata": {},
   "outputs": [],
   "source": [
    "#The goal is to investigate whether the weekly operating costs are higher than what the theoretical cost model predicts. The hypotheses will help in testing this claim.\n",
    "\n",
    "#Null Hypothesis (H₀): There is no increase in the weekly operating costs. The average weekly cost is as predicted by the model.\n",
    "\n",
    "#Alternative Hypothesis (H₁): The weekly operating costs are higher than predicted by the model."
   ]
  },
  {
   "cell_type": "code",
   "execution_count": 22,
   "id": "d38d2045-351a-4dda-8243-647d6bb15577",
   "metadata": {},
   "outputs": [
    {
     "name": "stdout",
     "output_type": "stream",
     "text": [
      "Calculated t-statistic: -38.000\n",
      "Critical Z-value for alpha = 0.05: 1.645\n",
      "Decision: Fail to reject the null hypothesis\n",
      "There is not enough evidence to support the restaurant owners' claim that the weekly operating costs are higher than the model suggests.\n"
     ]
    }
   ],
   "source": [
    "import scipy.stats as stats\n",
    "import math\n",
    "\n",
    "# Given values are\n",
    "x_bar = 3050  # Sample mean weekly cost (Rs. 3050)\n",
    "mu_0 = 4000   # Theoretical mean weekly cost (from the model)\n",
    "sigma = 5 * 25  # Standard deviation (5 * 25)\n",
    "n = 25  # Sample size\n",
    "alpha = 0.05  # Significance level for one-tailed test\n",
    "\n",
    "# Step 2: Calculate the test statistic (t)\n",
    "t_stat = (x_bar - mu_0) / (sigma / math.sqrt(n))\n",
    "\n",
    "# Step 3: Determine the critical Z-value for a one-tailed test at alpha = 0.05\n",
    "critical_z_value = stats.norm.ppf(1 - alpha)\n",
    "\n",
    "# Output results\n",
    "print(f\"Calculated t-statistic: {t_stat:.3f}\")\n",
    "print(f\"Critical Z-value for alpha = {alpha}: {critical_z_value:.3f}\")\n",
    "\n",
    "# Step 4: Make a decision\n",
    "if t_stat > critical_z_value:\n",
    "    decision = \"Reject the null hypothesis\"\n",
    "else:\n",
    "    decision = \"Fail to reject the null hypothesis\"\n",
    "\n",
    "print(f\"Decision: {decision}\")\n",
    "\n",
    "# Step 5: Conclusion\n",
    "if t_stat > critical_z_value:\n",
    "    conclusion = \"There is strong evidence to support the restaurant owners' claim that the weekly operating costs are higher than the model suggests.\"\n",
    "else:\n",
    "    conclusion = \"There is not enough evidence to support the restaurant owners' claim that the weekly operating costs are higher than the model suggests.\"\n",
    "\n",
    "print(conclusion)\n"
   ]
  },
  {
   "cell_type": "code",
   "execution_count": null,
   "id": "c1a3eeb0-d0bb-4ac7-95e9-8e75487470d0",
   "metadata": {},
   "outputs": [],
   "source": [
    "#------------------FINISH----------------!"
   ]
  }
 ],
 "metadata": {
  "kernelspec": {
   "display_name": "Python 3 (ipykernel)",
   "language": "python",
   "name": "python3"
  },
  "language_info": {
   "codemirror_mode": {
    "name": "ipython",
    "version": 3
   },
   "file_extension": ".py",
   "mimetype": "text/x-python",
   "name": "python",
   "nbconvert_exporter": "python",
   "pygments_lexer": "ipython3",
   "version": "3.12.4"
  }
 },
 "nbformat": 4,
 "nbformat_minor": 5
}
